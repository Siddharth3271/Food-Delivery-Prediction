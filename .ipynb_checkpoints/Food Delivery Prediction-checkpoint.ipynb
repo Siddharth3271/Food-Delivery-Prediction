{
 "cells": [
  {
   "cell_type": "code",
   "execution_count": null,
   "id": "04f82ada",
   "metadata": {},
   "outputs": [],
   "source": [
    "#data analytics libraries\n",
    "import numpy as np\n",
    "import pandas as pd\n",
    "\n",
    "#data visualizations libraries\n",
    "import matplotlib.pyplot as plt\n",
    "import seaborn as sns\n",
    "#for statistical analysis\n",
    "import scipy.stats as stats\n",
    "import statistics\n",
    "#for finding distance between latitude and longitude\n",
    "from geopy.distance import geodesic\n",
    "#for training and testing data\n",
    "from sklearn.model_selection import train_test_split,cross_val_score, GridSearchCV\n",
    "#for encoding categorical variables\n",
    "from sklearn.preprocessing import LabelEncoder,StandardScaler \n",
    "#for training models\n",
    "from sklearn.linear_model import LinearRegression\n",
    "from sklearn.tree import DecisionTreeRegressor\n",
    "from sklearn.ensemble import RandomForestRegressor\n",
    "import xgboost as xgb\n",
    "#for evaluation metrics\n",
    "from sklearn.metrics import mean_squared_error, r2_score,mean_absolute_error\n",
    "\n",
    "import warnings\n",
    "warnings.filterwarnings('ignore')"
   ]
  }
 ],
 "metadata": {
  "kernelspec": {
   "display_name": "Python 3 (ipykernel)",
   "language": "python",
   "name": "python3"
  },
  "language_info": {
   "codemirror_mode": {
    "name": "ipython",
    "version": 3
   },
   "file_extension": ".py",
   "mimetype": "text/x-python",
   "name": "python",
   "nbconvert_exporter": "python",
   "pygments_lexer": "ipython3",
   "version": "3.11.9"
  }
 },
 "nbformat": 4,
 "nbformat_minor": 5
}
